{
 "cells": [
  {
   "cell_type": "markdown",
   "metadata": {},
   "source": [
    "# Intelligent Agents: Reflex-Based Agents for the Vacuum-cleaner World\n",
    "\n",
    "\n",
    "## Instructions\n",
    "\n",
    "Total Points: Undergrads 100 / Graduate students 110\n",
    "\n",
    "Complete this notebook. Use the provided notebook cells and insert additional code and markdown cells as needed. Submit the completely rendered notebook as a PDF file. \n",
    "\n",
    "## Introduction\n",
    "\n",
    "In this assignment you will implement a simulator environment for an automatic vacuum cleaner robot, a set of different reflex-based agent programs, and perform a comparison study for cleaning a single room. Focus on the __cleaning phase__ which starts when the robot is activated and ends when the last dirty square in the room has been cleaned. Someone else will take care of the agent program needed to navigate back to the charging station after the room is clean.\n",
    "\n",
    "## PEAS description of the cleaning phase\n",
    "\n",
    "__Performance Measure:__ Each action costs 1 energy unit. The performance is measured as the sum of the energy units used to clean the whole room.\n",
    "\n",
    "__Environment:__ A room with $n \\times n$ squares where $n = 5$. Dirt is randomly placed on each square with probability $p = 0.2$. For simplicity, you can assume that the agent knows the size and the layout of the room (i.e., it knows $n$). To start, the agent is placed on a random square.\n",
    "\n",
    "__Actuators:__ The agent can clean the current square (action `suck`) or move to an adjacent square by going `north`, `east`, `south`, or `west`.\n",
    "\n",
    "__Sensors:__ Four bumper sensors, one for north, east, south, and west; a dirt sensor reporting dirt in the current square.  \n",
    "\n",
    "\n",
    "## The agent program for a simple randomized agent\n",
    "\n",
    "The agent program is a function that gets sensor information (the current percepts) as the arguments. The arguments are:\n",
    "\n",
    "* A dictionary with boolean entries for the for bumper sensors `north`, `east`, `west`, `south`. E.g., if the agent is on the north-west corner, `bumpers` will be `{\"north\" : True, \"east\" : False, \"south\" : False, \"west\" : True}`.\n",
    "* The dirt sensor produces a boolean.\n",
    "\n",
    "The agent returns the chosen action as a string.\n",
    "\n",
    "Here is an example implementation for the agent program of a simple randomized agent:  "
   ]
  },
  {
   "cell_type": "code",
   "execution_count": null,
   "metadata": {},
   "outputs": [],
   "source": [
    "import numpy as np\n",
    "\n",
    "actions = [\"north\", \"east\", \"west\", \"south\", \"suck\"]\n",
    "\n",
    "def simple_randomized_agent(bumpers, dirty):\n",
    "    return np.random.choice(actions)"
   ]
  },
  {
   "cell_type": "code",
   "execution_count": null,
   "metadata": {},
   "outputs": [],
   "source": [
    "# define percepts (current location is NW corner and it is dirty)\n",
    "bumpers = {\"north\" : True, \"east\" : False, \"south\" : False, \"west\" : True}\n",
    "dirty = True\n",
    "\n",
    "# call agent program function with percepts and it returns an action\n",
    "simple_randomized_agent(bumpers, dirty)"
   ]
  },
  {
   "cell_type": "markdown",
   "metadata": {},
   "source": [
    "__Note:__ This is not a rational intelligent agent. It ignores its sensors and may bump into a wall repeatedly or not clean a dirty square. You will be asked to implement rational agents below."
   ]
  },
  {
   "cell_type": "markdown",
   "metadata": {},
   "source": [
    "## Simple environment example\n",
    "\n",
    "We implement a simple simulation environment that supplies the agent with its percepts.\n",
    "The simple environment is infinite in size (bumpers are always `False`) and every square is always dirty, even if the agent cleans it. The environment function returns a performance measure which is here the number of cleaned squares (since the room is infinite and all squares are constantly dirty, the agent can never clean the whole room as required in the PEAS description above). The energy budget of the agent is specified as `max_steps`. "
   ]
  },
  {
   "cell_type": "code",
   "execution_count": null,
   "metadata": {},
   "outputs": [],
   "source": [
    "def simple_environment(agent, max_steps, verbose = True):\n",
    "    num_cleaned = 0\n",
    "    \n",
    "    for i in range(max_steps):\n",
    "        dirty = True\n",
    "        bumpers = {\"north\" : False, \"south\" : False, \"west\" : False, \"east\" : False}\n",
    "\n",
    "        action = agent(bumpers, dirty)\n",
    "        if (verbose): print(\"step\", i , \"- action:\", action) \n",
    "        \n",
    "        if (action == \"suck\"): \n",
    "            num_cleaned = num_cleaned + 1\n",
    "        \n",
    "    return num_cleaned\n",
    "        \n"
   ]
  },
  {
   "cell_type": "markdown",
   "metadata": {},
   "source": [
    "Do one simulation run with a simple randomized agent that has enough energy for 20 steps."
   ]
  },
  {
   "cell_type": "code",
   "execution_count": null,
   "metadata": {},
   "outputs": [],
   "source": [
    "simple_environment(simple_randomized_agent, max_steps = 20)"
   ]
  },
  {
   "cell_type": "markdown",
   "metadata": {},
   "source": [
    "env=np.random.choice(3, size=(n, n), p=[0.7, 0.3, 0])# Tasks\n",
    "\n",
    "## General [10 Points]\n",
    "\n",
    "1. Make sure that you use the latest version of this notebook. Sync your forked repository and pull the latest revision. \n",
    "2. Your implementation can use libraries like math, numpy, scipy, but not libraries that implement inteligent agents or complete search algorithms. Try to keep the code simple! In this course, we want to learn about the algorithms and we often do not need to use object-oriented design.\n",
    "3. You notebook needs to be formated professionally. \n",
    "    - Add additional markdown blocks for your description, comments in the code, add tables and use mathplotlib to produce charts where appropriate\n",
    "    - Do not show debugging output or include an excessive amount of output.\n",
    "    - Check that your PDF file is readable. For example, long lines are cut off in the PDF file. You don't have control over page breaks, so do not worry about these.\n",
    "4. Document your code. Add a short discussion of how your implementation works and your design choices.\n",
    "\n",
    "\n",
    "## Task 1: Implement a simulation environment [20 Points]\n",
    "\n",
    "The simple environment above is not very realistic. Your environment simulator needs to follow the PEAS description from above. It needs to:\n",
    "\n",
    "* Initialize the environment by storing the state of each square (clean/dirty) and making some dirty. ([Help with random numbers and arrays in Python](https://github.com/mhahsler/CS7320-AI/blob/master/Python_Code_Examples/random_numbers_and_arrays.ipynb))\n",
    "* Keep track of the agent's position.\n",
    "* Call the agent function repeatedly and provide the agent function with the sensor inputs.  \n",
    "* React to the agent's actions. E.g, by removing dirt from a square or moving the agent around unless there is a wall in the way.\n",
    "* Keep track of the performance measure. That is, track the agent's actions until all dirty squares are clean and count the number of actions it takes the agent to complete the task.\n",
    "\n",
    "The easiest implementation for the environment is to hold an 2-dimensional array to represent if squares are clean or dirty and to call the agent function in a loop until all squares are clean or a predefined number of steps have been reached (i.e., the robot runs out of energy).\n",
    "\n",
    "The simulation environment should be a function like the `simple_environment()` and needs to work with the simple randomized agent program from above. **Use the same environmnt for all your agent implementations in the tasks below.**\n",
    "\n",
    "*Note on debugging:* Debugging is difficult. Make sure your environment prints enough information when you use `verbose = True`. Also, implementing a function that the environment can use to displays the room with dirt and the current position of the robot at every step is very useful.  "
   ]
  },
  {
   "cell_type": "code",
   "execution_count": 1,
   "metadata": {},
   "outputs": [],
   "source": [
    "def simple_environment(agent,robot_position, max_steps, n, bumpers = {\"north\" : False, \"east\" : False, \"south\" : False, \"west\" : False, \"suck\" : False }, verbose = False):  \n",
    "    # creates environment and adds dirty cells randomly\n",
    "    env=np.random.choice(3, size=(n, n), p=[0.8, 0.2, 0]) # adds dirt as '1', and empty cells as '0'\n",
    "    env[0] = [2 for i in range(n)] # adds walls as '2'\n",
    "    env[n-1] = [2 for i in range(n)]\n",
    "    env[:,0] = [2 for i in range(n)]\n",
    "    env[:,n-1]=[2 for i in range(n)]\n",
    "    if verbose == True: print(env)\n",
    "    # randomly put robot inside the environment\n",
    "    if verbose == True: \n",
    "        print('Starting cleaning process:') \n",
    "        print('Current position:', robot_position) \n",
    "\n",
    "    reward_space = np.zeros(shape = (n,n))\n",
    "    for i in range(max_steps): \n",
    "    # for each step, environment feeds sensors. Turning them on and off.\n",
    "        # Bumper Sensors (also works for obstacles):\n",
    "        if env[robot_position[0]-1][robot_position[1]]==2: bumpers[\"north\"]=True\n",
    "        if env[robot_position[0]][robot_position[1]+1]==2: bumpers[\"east\"]=True\n",
    "        if env[robot_position[0]+1][robot_position[1]]==2: bumpers[\"south\"]=True\n",
    "        if env[robot_position[0]][robot_position[1]-1]==2: bumpers[\"west\"]=True\n",
    "        if env[robot_position[0]-1][robot_position[1]]==0: bumpers[\"north\"]=False\n",
    "        if env[robot_position[0]][robot_position[1]+1]==0: bumpers[\"east\"]=False\n",
    "        if env[robot_position[0]+1][robot_position[1]]==0: bumpers[\"south\"]=False\n",
    "        if env[robot_position[0]][robot_position[1]-1]==0: bumpers[\"west\"]=False\n",
    "        # Dirt Sensors:\n",
    "        if env[robot_position[0]][robot_position[1]]==1: bumpers[\"suck\"]=True\n",
    "        if env[robot_position[0]][robot_position[1]]==0: bumpers[\"suck\"]=False\n",
    "        # Couldn't directly put this into agent function for model based agent. Therefore, it ended up in Environment function. \n",
    "        # Simple Reflex agent doesn't use this. \n",
    "        reward_space[robot_position[0]][robot_position[1]]=reward_space[robot_position[0]][robot_position[1]]+1\n",
    "        ## Agent chooses action based on what type of agent it is. \n",
    "        chosen_Act = agent(bumpers,robot_position,reward_space,verbose)\n",
    "        # relocate robot:\n",
    "        if chosen_Act == 'east':\n",
    "            delta = [0,1]\n",
    "        if chosen_Act == 'west':\n",
    "            delta = [0,-1]\n",
    "        if chosen_Act == 'south':\n",
    "            delta = [1,0]  \n",
    "        if chosen_Act == 'suck':\n",
    "            delta = [0,0]\n",
    "        if chosen_Act == 'north':\n",
    "            delta = [-1,0]\n",
    "        if chosen_Act=='suck':\n",
    "            env[robot_position[0]][robot_position[1]]=0\n",
    "        else:\n",
    "            env=env\n",
    "\n",
    "        robot_position = robot_position + delta\n",
    "        \n",
    "        # once the environment is completely clean. break out of for loop, prints out the\n",
    "        # now clean environment. \n",
    "        if 1 not in env:\n",
    "            if verbose == True: \n",
    "                print('cleaned environment:')  \n",
    "                print(env)           \n",
    "            break\n",
    "        \n",
    "    return i+1, robot_position"
   ]
  },
  {
   "cell_type": "markdown",
   "metadata": {},
   "source": [
    "## Task 2:  Implement a simple reflex agent [10 Points] \n",
    "\n",
    "The simple reflex agent randomly walks around but reacts to the bumper sensor by not bumping into the wall and to dirt with sucking. Implement the agent program as a function.\n",
    "\n",
    "_Note:_ Agents cannot directly use variable in the environment. They only gets the percepts as the arguments to the agent function."
   ]
  },
  {
   "cell_type": "code",
   "execution_count": 2,
   "metadata": {},
   "outputs": [
    {
     "name": "stdout",
     "output_type": "stream",
     "text": [
      "starting cleaning the room: Simple Reflex Agent\n"
     ]
    },
    {
     "data": {
      "text/plain": [
       "(662, array([6, 3]))"
      ]
     },
     "execution_count": 2,
     "metadata": {},
     "output_type": "execute_result"
    }
   ],
   "source": [
    "import numpy as np \n",
    "\n",
    "def simple_agent(bumpers,robot_position, reward_space, verbose):\n",
    "    # all possible actions beside sucking. \n",
    "    actions = [\"north\", \"east\", \"west\", \"south\"]\n",
    "    # it will choose movement action randomly however, it won't bump into the wall/obstacle. Because, it has\n",
    "    # sensor information based on its current location. \n",
    "    if bumpers[\"suck\"] == True: \n",
    "        chosen_Act = 'suck'\n",
    "    else:\n",
    "        if bumpers[\"north\"] == True: actions.remove('north')\n",
    "        if bumpers[\"south\"] == True: actions.remove('south')\n",
    "        if bumpers[\"east\"] == True: actions.remove('east')\n",
    "        if bumpers[\"west\"] == True: actions.remove('west')\n",
    "        chosen_Act = np.random.choice(actions)\n",
    "    return chosen_Act\n",
    "\n",
    "bumpers = {\"north\" : False, \"east\" : False, \"south\" : False, \"west\" : False, \"suck\" : False }\n",
    "n = 10 # size of the room\n",
    "robot_position = np.random.choice([i for i in range(1,n-1)], size=(1, 2))[0]\n",
    "print('starting cleaning the room: Simple Reflex Agent')\n",
    "stepsize = simple_environment(simple_agent, robot_position, max_steps = 5000, n = n + 2, verbose = False)\n",
    "stepsize"
   ]
  },
  {
   "cell_type": "markdown",
   "metadata": {},
   "source": [
    "## Task 3: Implement a model-based reflex agent [20 Points]\n",
    "\n",
    "Model-based agents use a state to keep track of what they have done and perceived so far. Your agent needs to find out where it is located and then keep track of its current location. You also need a set of rules based on the state and the percepts to make sure that the agent will clean the whole room. For example, the agent can move to a corner to determine its location and then it can navigate through the whole room and clean dirty squares.\n",
    "\n",
    "Describe how you define the __agent state__ and how your agent works before implementing it. ([Help with implementing state information on Python](https://github.com/mhahsler/CS7320-AI/blob/master/Python_Code_Examples/store_agent_state_information.ipynb))"
   ]
  },
  {
   "cell_type": "code",
   "execution_count": 3,
   "metadata": {},
   "outputs": [],
   "source": [
    "# Your short description of the state and your implementation goes here"
   ]
  },
  {
   "cell_type": "code",
   "execution_count": 4,
   "metadata": {},
   "outputs": [],
   "source": [
    "import numpy as np \n",
    "\n",
    "# This function wasn't integrated properly with the environment properly. What this does is to navigate \n",
    "# agent to Northwestern corner (1,1) of the room. So that robot knows where it is. \n",
    "def find_station(n,robot_position,max_steps, verbose = False):\n",
    "    chosen_Act = 'north'\n",
    "    for i in range(max_steps):\n",
    "        # sensors sensing\n",
    "        if robot_position[0] == n-2: bumpers[\"south\"] = True\n",
    "        if robot_position[0] != n-2: bumpers[\"south\"] = False \n",
    "        if robot_position[1] == n-2: bumpers[\"east\"] = True\n",
    "        if robot_position[1] != n-2: bumpers[\"east\"] = False\n",
    "        if robot_position[1] == 1: bumpers[\"west\"] = True\n",
    "        if robot_position[1] != 1: bumpers[\"west\"] = False\n",
    "        if robot_position[0] == 1: bumpers[\"north\"] = True\n",
    "        if robot_position[0] != 1: bumpers[\"north\"] = False\n",
    "        # rationalizing action\n",
    "        if bumpers[chosen_Act] == True: \n",
    "            chosen_Act = 'west' \n",
    "        else: \n",
    "            chosen_Act = chosen_Act\n",
    "        if bumpers[chosen_Act] == True:\n",
    "            memory_position = robot_position\n",
    "            break\n",
    "        # relocate the agent\n",
    "        if chosen_Act == 'east':\n",
    "            delta = [0,1]\n",
    "        if chosen_Act == 'west':\n",
    "            delta = [0,-1]\n",
    "        if chosen_Act == 'south':\n",
    "            delta = [1,0]  \n",
    "        if chosen_Act == 'suck':\n",
    "            delta = [0,0]\n",
    "        if chosen_Act == 'north':\n",
    "            delta = [-1,0]         \n",
    "        # changed position\n",
    "        robot_position = robot_position + delta\n",
    "    if verbose == True:print('arrived at', robot_position, '--> Northwest corner')\n",
    "    return robot_position # returns the end position which is the corner.\n",
    "\n",
    "def reward_based_movement(robot_position, reward_space, actions):\n",
    "    # put this after possible actions are reduced by bumpers!\n",
    "    # robot_position = [0, 0]\n",
    "    # actions = {\"east\" : [0,1], \"south\" : [1,0]}\n",
    "    p_pos, p_reward = list(), list()\n",
    "    p_delta = [j for i,j in actions.items()]\n",
    "    for i in range(len(p_delta)):\n",
    "        p_pos.append(np.array(robot_position) + p_delta[i])\n",
    "        #print(reward_space)\n",
    "        p_reward.append(reward_space[p_pos[-1][0]][p_pos[-1][1]])\n",
    "    idx = p_reward.index(min(p_reward)) # find index of the low reward direction\n",
    "    act = list(actions.keys())[idx]\n",
    "    #print(chosen_Act) \n",
    "    #print(reward_space)\n",
    "    return act\n",
    "\n",
    "def model_based_agent(bumpers,robot_position,reward_space, verbose):\n",
    "    # all possible actions beside sucking. \n",
    "    actions = {\"north\" : [-1,0] , \"east\": [0,1], \"west\" : [0,-1], \"south\" : [1, 0]}\n",
    "    # it will choose movement action randomly however, it won't bump into the wall/obstacle. Because, it has\n",
    "    # sensor information based on its current location. \n",
    "    if bumpers[\"suck\"] == True: \n",
    "        chosen_Act = 'suck'\n",
    "    else:\n",
    "        if bumpers[\"north\"] == True: \n",
    "            del actions['north']\n",
    "        if bumpers[\"south\"] == True: \n",
    "            del actions['south'] \n",
    "        if bumpers[\"east\"] == True: \n",
    "            del actions['east'] \n",
    "        if bumpers[\"west\"] == True: \n",
    "            del actions['west'] \n",
    "        #This shows how reward_space changes as agent moves.\n",
    "        if verbose == True: print(reward_space) \n",
    "        chosen_Act = reward_based_movement(robot_position,reward_space,actions)\n",
    "\n",
    "    return chosen_Act        "
   ]
  },
  {
   "cell_type": "code",
   "execution_count": 5,
   "metadata": {},
   "outputs": [
    {
     "name": "stdout",
     "output_type": "stream",
     "text": [
      "moving to corner : northwest\n",
      "starting cleaning the room: Model Based Agent\n"
     ]
    },
    {
     "data": {
      "text/plain": [
       "114"
      ]
     },
     "execution_count": 5,
     "metadata": {},
     "output_type": "execute_result"
    }
   ],
   "source": [
    "bumpers = {\"north\" : False, \"east\" : False, \"south\" : False, \"west\" : False, \"suck\" : False }\n",
    "n = 10 # size of the room \n",
    "robot_position = np.random.choice([i for i in range(1,n-1)], size=(1, 2))[0]\n",
    "print('moving to corner : northwest')\n",
    "robot_position = find_station(n,robot_position,max_steps = 1000)\n",
    "print('starting cleaning the room: Model Based Agent')\n",
    "stepsize = simple_environment(model_based_agent, robot_position, 5000, n = n + 2, verbose = False)\n",
    "stepsize[0]"
   ]
  },
  {
   "cell_type": "markdown",
   "metadata": {},
   "source": [
    "## Task 4: Simulation study [30 Points]\n",
    "\n",
    "Compare the performance (the performance measure is defined in the PEAS description above) of the agents using  environments of different size. E.g., $5 \\times 5$, $10 \\times 10$ and\n",
    "$100 \\times 100$. Use 100 random runs for each. Present the results using tables and graphs. Discuss the differences between the agents. \n",
    "([Help with charts and tables in Python](https://github.com/mhahsler/CS7320-AI/blob/master/Python_Code_Examples/charts_and_tables.ipynb))"
   ]
  },
  {
   "cell_type": "code",
   "execution_count": 6,
   "metadata": {},
   "outputs": [
    {
     "name": "stdout",
     "output_type": "stream",
     "text": [
      "starting cleaning the room: Randomized Agent\n"
     ]
    },
    {
     "data": {
      "text/plain": [
       "1900"
      ]
     },
     "execution_count": 6,
     "metadata": {},
     "output_type": "execute_result"
    }
   ],
   "source": [
    "import numpy as np \n",
    "\n",
    "def random_agent(bumpers,robot_position, reward_space, verbose):\n",
    "    # all possible actions including sucking. \n",
    "    actions = [\"north\", \"east\", \"west\", \"south\", \"suck\"]\n",
    "    # Random agent determines its action completely random. \n",
    "    # It doesn't suck the dirt as it senses\n",
    "    if bumpers[\"north\"] == True: actions.remove('north')\n",
    "    if bumpers[\"south\"] == True: actions.remove('south')\n",
    "    if bumpers[\"east\"] == True: actions.remove('east')\n",
    "    if bumpers[\"west\"] == True: actions.remove('west')\n",
    "    chosen_Act = np.random.choice(actions)\n",
    "    return chosen_Act\n",
    "bumpers = {\"north\" : False, \"east\" : False, \"south\" : False, \"west\" : False, \"suck\" : False }\n",
    "n = 10 # size of the room \n",
    "robot_position = np.random.choice([i for i in range(1,n-1)], size=(1, 2))[0]\n",
    "print('starting cleaning the room: Randomized Agent')\n",
    "stepsize = simple_environment(random_agent, robot_position, 1000000, n = n + 2, verbose = False)\n",
    "stepsize[0]"
   ]
  },
  {
   "cell_type": "code",
   "execution_count": 10,
   "metadata": {},
   "outputs": [
    {
     "data": {
      "image/png": "[encoded data removed]",
      "text/plain": [
       "<Figure size 1440x360 with 3 Axes>"
      ]
     },
     "metadata": {
      "needs_background": "light"
     },
     "output_type": "display_data"
    }
   ],
   "source": [
    "import matplotlib.pyplot as plt\n",
    "n = 5\n",
    "fig = plt.figure(figsize=(20,5))\n",
    "\n",
    "simple_agentf = list()\n",
    "plt.subplot(1,3,2)\n",
    "for i in range(100):\n",
    "    robot_position = np.random.choice([i for i in range(1,n-1)], size=(1, 2))[0]\n",
    "    robot_position = find_station(n,robot_position,max_steps = 1000)\n",
    "    stepsize = simple_environment(simple_agent, robot_position, 100000, n = n + 2, verbose = False)[0]\n",
    "    simple_agentf.append(stepsize)\n",
    "    simple_agentf = [i for i in simple_agentf if i < 100000]\n",
    "plt.hist(simple_agentf, bins=10, color = 'purple') # simple reflex agent \n",
    "\n",
    "plt.subplot(1,3,3)\n",
    "model_based_agentf = list()\n",
    "for i in range(100):\n",
    "    robot_position = np.random.choice([i for i in range(1,n-1)], size=(1, 2))[0]\n",
    "    robot_position = find_station(n,robot_position,max_steps = 1000)\n",
    "    stepsize = simple_environment(model_based_agent, robot_position, 100000, n = n + 2, verbose = False)[0]\n",
    "    model_based_agentf.append(stepsize)\n",
    "    model_based_agentf = [i for i in model_based_agentf if i < 100000]\n",
    "plt.hist(model_based_agentf, bins=10, color = 'blue') # model-based reflex agent\n",
    "\n",
    "plt.subplot(1,3,1)\n",
    "random_agentf = list()\n",
    "for i in range(100):\n",
    "    robot_position = np.random.choice([i for i in range(1,n-1)], size=(1, 2))[0]\n",
    "    robot_position = find_station(n,robot_position,max_steps = 1000)\n",
    "    stepsize = simple_environment(random_agent, robot_position, 100000, n = n + 2, verbose = False)[0]\n",
    "    random_agentf.append(stepsize)\n",
    "    random_agentf = [i for i in random_agentf if i < 100000]\n",
    "plt.hist(random_agentf, bins=10, color = 'red') # model-based reflex agent\n",
    "\n",
    "plt.show()\n"
   ]
  },
  {
   "cell_type": "code",
   "execution_count": 15,
   "metadata": {},
   "outputs": [
    {
     "data": {
      "text/plain": [
       "(2910.29, 876.16, 114.67)"
      ]
     },
     "execution_count": 15,
     "metadata": {},
     "output_type": "execute_result"
    }
   ],
   "source": [
    "# mean values for 5 x 5 room\n",
    "np.mean(random_agentf), np.mean(simple_agentf), np.mean(model_based_agentf)"
   ]
  },
  {
   "cell_type": "code",
   "execution_count": 12,
   "metadata": {},
   "outputs": [
    {
     "data": {
      "image/png": "[encoded data removed]",
      "text/plain": [
       "<Figure size 1440x360 with 3 Axes>"
      ]
     },
     "metadata": {
      "needs_background": "light"
     },
     "output_type": "display_data"
    }
   ],
   "source": [
    "import matplotlib.pyplot as plt\n",
    "n = 10\n",
    "fig = plt.figure(figsize=(20,5))\n",
    "\n",
    "simple_agentf = list()\n",
    "plt.subplot(1,3,2)\n",
    "for i in range(100):\n",
    "    robot_position = np.random.choice([i for i in range(1,n-1)], size=(1, 2))[0]\n",
    "    robot_position = find_station(n,robot_position,max_steps = 1000)\n",
    "    stepsize = simple_environment(simple_agent, robot_position, 100000, n = n + 2, verbose = False)[0]\n",
    "    simple_agentf.append(stepsize)\n",
    "    simple_agentf = [i for i in simple_agentf if i < 100000]\n",
    "plt.hist(simple_agentf, bins=10, color = 'purple') # simple reflex agent \n",
    "\n",
    "plt.subplot(1,3,3)\n",
    "model_based_agentf = list()\n",
    "for i in range(100):\n",
    "    robot_position = np.random.choice([i for i in range(1,n-1)], size=(1, 2))[0]\n",
    "    robot_position = find_station(n,robot_position,max_steps = 1000)\n",
    "    stepsize = simple_environment(model_based_agent, robot_position, 100000, n = n + 2, verbose = False)[0]\n",
    "    model_based_agentf.append(stepsize)\n",
    "    model_based_agentf = [i for i in model_based_agentf if i < 100000]\n",
    "plt.hist(model_based_agentf, bins=10, color = 'blue') # model-based reflex agent\n",
    "\n",
    "plt.subplot(1,3,1)\n",
    "random_agentf = list()\n",
    "for i in range(100):\n",
    "    robot_position = np.random.choice([i for i in range(1,n-1)], size=(1, 2))[0]\n",
    "    robot_position = find_station(n,robot_position,max_steps = 1000)\n",
    "    stepsize = simple_environment(random_agent, robot_position, 100000, n = n + 2, verbose = False)[0]\n",
    "    random_agentf.append(stepsize)\n",
    "    random_agentf = [i for i in random_agentf if i < 100000]\n",
    "plt.hist(random_agentf, bins=10, color = 'red') # model-based reflex agent\n",
    "\n",
    "plt.show()\n"
   ]
  },
  {
   "cell_type": "code",
   "execution_count": 13,
   "metadata": {},
   "outputs": [
    {
     "data": {
      "text/plain": [
       "(3112.929292929293, 866.12, 115.42)"
      ]
     },
     "execution_count": 13,
     "metadata": {},
     "output_type": "execute_result"
    }
   ],
   "source": [
    "# mean values for 5 x 5 room\n",
    "np.mean(random_agentf), np.mean(simple_agentf), np.mean(model_based_agentf)"
   ]
  },
  {
   "cell_type": "code",
   "execution_count": null,
   "metadata": {},
   "outputs": [],
   "source": [
    "import matplotlib.pyplot as plt\n",
    "n = 100\n",
    "fig = plt.figure(figsize=(20,5))\n",
    "step_size1 = list()\n",
    "plt.subplot(1,2,1)\n",
    "for i in range(100):\n",
    "    robot_position = np.random.choice([i for i in range(1,n-1)], size=(1, 2))[0]\n",
    "    robot_position = find_station(n,robot_position,max_steps = 1000)\n",
    "    stepsize = simple_environment(simple_agent, robot_position, 100000, n = n + 2, verbose = False)[0]\n",
    "    step_size1.append(stepsize)\n",
    "    step_size1 = [i for i in step_size1 if i < 500]\n",
    "plt.hist(step_size1, bins=10, color = 'purple')\n",
    "\n",
    "plt.subplot(1,2,2)\n",
    "step_size2 = list()\n",
    "for i in range(100):\n",
    "    robot_position = np.random.choice([i for i in range(1,n-1)], size=(1, 2))[0]\n",
    "    robot_position = find_station(n,robot_position,max_steps = 1000)\n",
    "    stepsize = simple_environment(model_based_agent, robot_position, 100000, n = n + 2, verbose = False)[0]\n",
    "    step_size2.append(stepsize)\n",
    "    step_size2 = [i for i in step_size2 if i < 500]\n",
    "plt.hist(step_size2, bins=10, color = 'blue')\n",
    "\n",
    "plt.show()\n"
   ]
  },
  {
   "cell_type": "markdown",
   "metadata": {},
   "source": [
    "Fill out the following table with the average performance measure for 100 random runs (you may also create this table with code):\n",
    "\n",
    "| Size     | Randomized Agent | Simple Reflex Agent | Model-based Reflex Agent |\n",
    "|----------|------------------|---------------------|--------------------------|\n",
    "| 5x5     | 375.2|97.7 |24.9|\n",
    "| 10x10   |3112.9 |945.13 |115.27 |\n",
    "| 100x100 | | | |\n",
    "\n",
    "Add charts to compare the performance of the different agents."
   ]
  },
  {
   "cell_type": "code",
   "execution_count": null,
   "metadata": {},
   "outputs": [],
   "source": [
    "# Your graphs and discussion of the results goes here"
   ]
  },
  {
   "cell_type": "markdown",
   "metadata": {},
   "source": [
    "## Task 5: Robustness of the agent implementations [10 Points] \n",
    "\n",
    "Describe how **your agent implementations** will perform \n",
    "\n",
    "* if it is put into a rectangular room with unknown size, \n",
    "* if the cleaning area can have an iregular shape (e.g., a hallway connecting two rooms), or \n",
    "* if the room contains obstacles (i.e., squares that it cannot pass through and trigger the bumper sensors)."
   ]
  },
  {
   "cell_type": "markdown",
   "metadata": {},
   "source": [
    "### Answers\n",
    "* As the workspace increases, it gets longer for simple reflex agent to finish the task. However, model-based agent tries not to pass through already explored cells by marking them on a virtual space (reward_space). Current model-based reflex agent has to know the size of the workspace to work. That's because the reward_space is generated before the deployment with same size as the workspace. However, the simple reflex model doesn't know anything about the environment. It randomly moves around, therefore, it would be able to perform cleaning tasks in a rectangular room with unknown size. \n",
    "\n",
    "* Simple reflex agent would be able to perform in irregular shaped workspaces. However, as it moves random it would take exponantially longer if we had hallways seperating rooms. Even though, model based agent could be improved further. It could function much better in irregular shaped rooms as long as we have size information.\n",
    "\n",
    "* Both models works with obstacles in the room. As their sensors allow them to detect not only walls but also obstacles. However, model based would perform much better in a room with obstacles due to its memory. \n"
   ]
  },
  {
   "cell_type": "markdown",
   "metadata": {},
   "source": [
    "## Graduate student advanced task: Obstacles [10 Points]\n",
    "\n",
    "__Undergraduate students:__ This is a bonus task you can attempt if you like [+5 Bonus Points].\n",
    "\n",
    "1. Change your simulation environment tor run experiments for the following problem: Add random obstacle squares that also trigger the bumper sensor. The agent does not know where the obstacles are. Observe how this changes the performance of the three implementations.\n",
    "\n",
    "2. Describe what would need to be done to perform better with obstacles. Add code if you can. "
   ]
  },
  {
   "cell_type": "markdown",
   "metadata": {},
   "source": [
    "With the already existing section at bumper sensor trigger section of the code in environment function. All agents already has the ability to sense any obstacle. Basically, by assigning '2' to walls and the obstacles, there is no need to add any additional code. \n",
    "* The code checks the adjacent cells and if it sees '2', it turns on the sensor on that direction. This way the agent knows that direction is blocked."
   ]
  },
  {
   "cell_type": "code",
   "execution_count": 25,
   "metadata": {},
   "outputs": [],
   "source": [
    "# Environment generation can include number 2 to randomly place  obstacles. \n",
    "# Simply adding the section p=[0.7, 0.2, 0.1] to the probability adds obstacles\n",
    "# with 10% probability. Before '2' was only the indicator of wall. \n",
    "def simple_environment(agent,robot_position, max_steps, n, bumpers = {\"north\" : False, \"east\" : False, \"south\" : False, \"west\" : False, \"suck\" : False }, verbose = False):  \n",
    "    # creates environment and adds dirty cells randomly\n",
    "    env=np.random.choice(3, size=(n, n), p=[0.7, 0.2, 0.1]) # adds dirt as '1', and empty cells as '0'\n",
    "    env[0] = [2 for i in range(n)] # adds walls as '2'\n",
    "    env[n-1] = [2 for i in range(n)]\n",
    "    env[:,0] = [2 for i in range(n)]\n",
    "    env[:,n-1]=[2 for i in range(n)]\n",
    "    if verbose == True: print(env)\n",
    "    # randomly put robot inside the environment\n",
    "    if verbose == True: \n",
    "        print('Starting cleaning process:') \n",
    "        print('Current position:', robot_position) \n",
    "\n",
    "    reward_space = np.zeros(shape = (n,n))\n",
    "    for i in range(max_steps): \n",
    "    # for each step, environment feeds sensors. Turning them on and off.\n",
    "        # Bumper Sensors (also works for obstacles):\n",
    "        if env[robot_position[0]-1][robot_position[1]]==2: bumpers[\"north\"]=True\n",
    "        if env[robot_position[0]][robot_position[1]+1]==2: bumpers[\"east\"]=True\n",
    "        if env[robot_position[0]+1][robot_position[1]]==2: bumpers[\"south\"]=True\n",
    "        if env[robot_position[0]][robot_position[1]-1]==2: bumpers[\"west\"]=True\n",
    "        if env[robot_position[0]-1][robot_position[1]]==0: bumpers[\"north\"]=False\n",
    "        if env[robot_position[0]][robot_position[1]+1]==0: bumpers[\"east\"]=False\n",
    "        if env[robot_position[0]+1][robot_position[1]]==0: bumpers[\"south\"]=False\n",
    "        if env[robot_position[0]][robot_position[1]-1]==0: bumpers[\"west\"]=False\n",
    "        # Dirt Sensors:\n",
    "        if env[robot_position[0]][robot_position[1]]==1: bumpers[\"suck\"]=True\n",
    "        if env[robot_position[0]][robot_position[1]]==0: bumpers[\"suck\"]=False\n",
    "        # Couldn't directly put this into agent function for model based agent. Therefore, it ended up in Environment function. \n",
    "        # Simple Reflex agent doesn't use this. \n",
    "        reward_space[robot_position[0]][robot_position[1]]=reward_space[robot_position[0]][robot_position[1]]+1\n",
    "        ## Agent chooses action based on what type of agent it is. \n",
    "        chosen_Act = agent(bumpers,robot_position,reward_space,verbose)\n",
    "        # relocate robot:\n",
    "        if chosen_Act == 'east':\n",
    "            delta = [0,1]\n",
    "        if chosen_Act == 'west':\n",
    "            delta = [0,-1]\n",
    "        if chosen_Act == 'south':\n",
    "            delta = [1,0]  \n",
    "        if chosen_Act == 'suck':\n",
    "            delta = [0,0]\n",
    "        if chosen_Act == 'north':\n",
    "            delta = [-1,0]\n",
    "        if chosen_Act=='suck':\n",
    "            env[robot_position[0]][robot_position[1]]=0\n",
    "        else:\n",
    "            env=env\n",
    "\n",
    "        robot_position = robot_position + delta\n",
    "        \n",
    "        # once the environment is completely clean. break out of for loop, prints out the\n",
    "        # now clean environment. \n",
    "        if 1 not in env:\n",
    "            if verbose == True: \n",
    "                print('cleaned environment:')  \n",
    "                print(env)           \n",
    "            break\n",
    "        \n",
    "    return i+1, robot_position\n",
    "\n"
   ]
  },
  {
   "cell_type": "code",
   "execution_count": 14,
   "metadata": {},
   "outputs": [
    {
     "data": {
      "image/png": "[encoded data removed]",
      "text/plain": [
       "<Figure size 1440x360 with 3 Axes>"
      ]
     },
     "metadata": {
      "needs_background": "light"
     },
     "output_type": "display_data"
    }
   ],
   "source": [
    "import matplotlib.pyplot as plt\n",
    "n = 10\n",
    "fig = plt.figure(figsize=(20,5))\n",
    "\n",
    "simple_agentf = list()\n",
    "plt.subplot(1,3,2)\n",
    "for i in range(100):\n",
    "    robot_position = np.random.choice([i for i in range(1,n-1)], size=(1, 2))[0]\n",
    "    robot_position = find_station(n,robot_position,max_steps = 1000)\n",
    "    stepsize = simple_environment(simple_agent, robot_position, 100000, n = n + 2, verbose = False)[0]\n",
    "    simple_agentf.append(stepsize)\n",
    "    simple_agentf = [i for i in simple_agentf if i < 100000]\n",
    "plt.hist(simple_agentf, bins=10, color = 'purple') # simple reflex agent \n",
    "\n",
    "plt.subplot(1,3,3)\n",
    "model_based_agentf = list()\n",
    "for i in range(100):\n",
    "    robot_position = np.random.choice([i for i in range(1,n-1)], size=(1, 2))[0]\n",
    "    robot_position = find_station(n,robot_position,max_steps = 1000)\n",
    "    stepsize = simple_environment(model_based_agent, robot_position, 100000, n = n + 2, verbose = False)[0]\n",
    "    model_based_agentf.append(stepsize)\n",
    "    model_based_agentf = [i for i in model_based_agentf if i < 100000]\n",
    "plt.hist(model_based_agentf, bins=10, color = 'blue') # model-based reflex agent\n",
    "\n",
    "plt.subplot(1,3,1)\n",
    "random_agentf = list()\n",
    "for i in range(100):\n",
    "    robot_position = np.random.choice([i for i in range(1,n-1)], size=(1, 2))[0]\n",
    "    robot_position = find_station(n,robot_position,max_steps = 1000)\n",
    "    stepsize = simple_environment(random_agent, robot_position, 100000, n = n + 2, verbose = False)[0]\n",
    "    random_agentf.append(stepsize)\n",
    "    random_agentf = [i for i in random_agentf if i < 100000]\n",
    "plt.hist(random_agentf, bins=10, color = 'red') # model-based reflex agent\n",
    "\n",
    "plt.show()"
   ]
  },
  {
   "cell_type": "markdown",
   "metadata": {},
   "source": [
    "## More advanced implementation tasks\n",
    "\n",
    "* __Agent for and environment with obstacles:__ Implement an agent for an environment where the agent does not know how large the environment is (we assume it is rectangular), where it starts or where the obstacles are. An option would be to always move to the closest unchecked/uncleaned square (note that this is actualy depth-first search).\n",
    "\n",
    "* __Utility-based agent:__ Change the environment for a $5 \\times 5$ room, so each square has a fixed probability of getting dirty again. For the implementation, we give the environment a 2-dimensional array of probabilities. The utility of a state is defined as the number of currebntly clean squares in the room. Implement a utility-based agent that maximizes the expected utility over one full charge which lasts for 100000 time steps. To do this, the agent needs to learn the probabilities with which different squares get dirty again. This is very tricky!"
   ]
  },
  {
   "cell_type": "code",
   "execution_count": null,
   "metadata": {},
   "outputs": [],
   "source": [
    "# Your ideas/code"
   ]
  }
 ],
 "metadata": {
  "kernelspec": {
   "display_name": "Python 3",
   "language": "python",
   "name": "python3"
  },
  "language_info": {
   "codemirror_mode": {
    "name": "ipython",
    "version": 3
   },
   "file_extension": ".py",
   "mimetype": "text/x-python",
   "name": "python",
   "nbconvert_exporter": "python",
   "pygments_lexer": "ipython3",
   "version": "3.8.8"
  },
  "toc-autonumbering": false
 },
 "nbformat": 4,
 "nbformat_minor": 4
}
